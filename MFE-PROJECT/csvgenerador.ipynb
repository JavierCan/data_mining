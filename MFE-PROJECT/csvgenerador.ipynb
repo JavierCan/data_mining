{
 "cells": [
  {
   "cell_type": "code",
   "execution_count": 1,
   "metadata": {},
   "outputs": [],
   "source": [
    "import pandas as pd\n",
    "import random\n",
    "import requests\n",
    "import urllib\n",
    "import pandas as pd\n",
    "import random\n",
    "import requests\n",
    "\n",
    "# Asegúrate de reemplazar 'YOUR_API_KEY' con tu clave de API de MapQuest\n",
    "API_KEY = 'Axh38BTtZGC9LrXTUySXP2d2jqANaAPT'\n",
    "\n",
    "def geocode(address):\n",
    "    # Construir la URL\n",
    "    url = f\"http://www.mapquestapi.com/geocoding/v1/address?key={API_KEY}&location={address}, Merida, Yucatan, Mexico\"\n",
    "    \n",
    "    # Hacer la solicitud\n",
    "    response = requests.get(url)\n",
    "    \n",
    "    # Extraer los resultados\n",
    "    results = response.json()['results']\n",
    "    \n",
    "    # Si hay resultados, extraer las coordenadas\n",
    "    if results:\n",
    "        location = results[0]['locations'][0]['latLng']\n",
    "        return location['lat'], location['lng']\n",
    "    \n",
    "    # Si no hay resultados, devolver None\n",
    "    return None\n",
    "\n",
    "# Simulación de datos para la encuesta\n",
    "num_estudiantes = 1000 # Número de entradas de ejemplo\n",
    "\n",
    "# Listas de datos simulados\n",
    "posee_vehiculo = [random.choice([\"Sí\", \"No\"]) for _ in range(num_estudiantes)]\n",
    "asientos_disponibles = [random.choice([0, 1, 2, 3, 4]) if posee_vehiculo[i] == \"Sí\" else 0 for i in range(num_estudiantes)]\n",
    "disponibilidad_compartir_viajes = [\"Sí\" if posee_vehiculo[i] == \"Sí\" else \"No\" for i in range(num_estudiantes)]\n",
    "datos = {\"Número de matrícula\": [f\"UPY2023{str(i).zfill(3)}\" for i in range(num_estudiantes)],\n",
    "    \"Dirección (Colonia)\": [random.choice([\"Centro\", \"Altabrisa\", \"Ciudad Caucel\", \"Montes de Amé\", \"Chuburná\", \"Francisco de Montejo\"]) for _ in range(num_estudiantes)],\n",
    "    \"Horario de Clases\": [random.choice([\"7 AM - 2 PM\", \"2 PM - 9 PM\"]) for _ in range(num_estudiantes)],\n",
    "    \"Posee Vehículo\": posee_vehiculo,\n",
    "    \"Asientos Disponibles\": asientos_disponibles,\n",
    "    \"Disponibilidad para Compartir Viajes\": disponibilidad_compartir_viajes,\n",
    "    \"Necesidad de Transporte\": [random.choice([\"Sí\", \"No\"]) for _ in range(num_estudiantes)],\n",
    "    \"Preferencias Adicionales\": [random.choice([\"Ninguna\", \"Solo mujeres\", \"Solo hombres\", ]) for _ in range(num_estudiantes)]}\n",
    "\n",
    "\n",
    "\n",
    "# Crear DataFrame de Pandas\n",
    "df = pd.DataFrame(datos)\n",
    "# Aplicar la función de geocodificación a los códigos postales\n",
    "df['Coordenadas'] = df['Dirección (Colonia)'].apply(geocode)\n",
    "\n",
    "# Guardar datos en un archivo CSV\n",
    "df.to_csv(\"upydatasimulado.csv\", index=False)\n"
   ]
  },
  {
   "cell_type": "code",
   "execution_count": null,
   "metadata": {},
   "outputs": [],
   "source": []
  }
 ],
 "metadata": {
  "kernelspec": {
   "display_name": "Python 3",
   "language": "python",
   "name": "python3"
  },
  "language_info": {
   "codemirror_mode": {
    "name": "ipython",
    "version": 3
   },
   "file_extension": ".py",
   "mimetype": "text/x-python",
   "name": "python",
   "nbconvert_exporter": "python",
   "pygments_lexer": "ipython3",
   "version": "3.11.4"
  }
 },
 "nbformat": 4,
 "nbformat_minor": 2
}
